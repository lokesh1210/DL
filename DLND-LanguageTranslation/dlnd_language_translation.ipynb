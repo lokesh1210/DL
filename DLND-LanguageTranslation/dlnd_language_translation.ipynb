{
 "cells": [
  {
   "cell_type": "markdown",
   "metadata": {
    "collapsed": true
   },
   "source": [
    "# Language Translation\n",
    "In this project, you’re going to take a peek into the realm of neural network machine translation.  You’ll be training a sequence to sequence model on a dataset of English and French sentences that can translate new sentences from English to French.\n",
    "## Get the Data\n",
    "Since translating the whole language of English to French will take lots of time to train, we have provided you with a small portion of the English corpus."
   ]
  },
  {
   "cell_type": "code",
   "execution_count": 1,
   "metadata": {
    "collapsed": true
   },
   "outputs": [],
   "source": [
    "\"\"\"\n",
    "DON'T MODIFY ANYTHING IN THIS CELL\n",
    "\"\"\"\n",
    "import helper\n",
    "import problem_unittests as tests\n",
    "\n",
    "source_path = 'data/small_vocab_en'\n",
    "target_path = 'data/small_vocab_fr'\n",
    "source_text = helper.load_data(source_path)\n",
    "target_text = helper.load_data(target_path)"
   ]
  },
  {
   "cell_type": "markdown",
   "metadata": {},
   "source": [
    "## Explore the Data\n",
    "Play around with view_sentence_range to view different parts of the data."
   ]
  },
  {
   "cell_type": "code",
   "execution_count": 2,
   "metadata": {},
   "outputs": [
    {
     "name": "stdout",
     "output_type": "stream",
     "text": [
      "Dataset Stats\n",
      "Roughly the number of unique words: 227\n",
      "Number of sentences: 137861\n",
      "Average number of words in a sentence: 13.225277634719028\n",
      "\n",
      "English sentences 0 to 10:\n",
      "new jersey is sometimes quiet during autumn , and it is snowy in april .\n",
      "the united states is usually chilly during july , and it is usually freezing in november .\n",
      "california is usually quiet during march , and it is usually hot in june .\n",
      "the united states is sometimes mild during june , and it is cold in september .\n",
      "your least liked fruit is the grape , but my least liked is the apple .\n",
      "his favorite fruit is the orange , but my favorite is the grape .\n",
      "paris is relaxing during december , but it is usually chilly in july .\n",
      "new jersey is busy during spring , and it is never hot in march .\n",
      "our least liked fruit is the lemon , but my least liked is the grape .\n",
      "the united states is sometimes busy during january , and it is sometimes warm in november .\n",
      "\n",
      "French sentences 0 to 10:\n",
      "new jersey est parfois calme pendant l' automne , et il est neigeux en avril .\n",
      "les états-unis est généralement froid en juillet , et il gèle habituellement en novembre .\n",
      "california est généralement calme en mars , et il est généralement chaud en juin .\n",
      "les états-unis est parfois légère en juin , et il fait froid en septembre .\n",
      "votre moins aimé fruit est le raisin , mais mon moins aimé est la pomme .\n",
      "son fruit préféré est l'orange , mais mon préféré est le raisin .\n",
      "paris est relaxant en décembre , mais il est généralement froid en juillet .\n",
      "new jersey est occupé au printemps , et il est jamais chaude en mars .\n",
      "notre fruit est moins aimé le citron , mais mon moins aimé est le raisin .\n",
      "les états-unis est parfois occupé en janvier , et il est parfois chaud en novembre .\n"
     ]
    }
   ],
   "source": [
    "view_sentence_range = (0, 10)\n",
    "\n",
    "\"\"\"\n",
    "DON'T MODIFY ANYTHING IN THIS CELL\n",
    "\"\"\"\n",
    "import numpy as np\n",
    "\n",
    "print('Dataset Stats')\n",
    "print('Roughly the number of unique words: {}'.format(len({word: None for word in source_text.split()})))\n",
    "\n",
    "sentences = source_text.split('\\n')\n",
    "word_counts = [len(sentence.split()) for sentence in sentences]\n",
    "print('Number of sentences: {}'.format(len(sentences)))\n",
    "print('Average number of words in a sentence: {}'.format(np.average(word_counts)))\n",
    "\n",
    "print()\n",
    "print('English sentences {} to {}:'.format(*view_sentence_range))\n",
    "print('\\n'.join(source_text.split('\\n')[view_sentence_range[0]:view_sentence_range[1]]))\n",
    "print()\n",
    "print('French sentences {} to {}:'.format(*view_sentence_range))\n",
    "print('\\n'.join(target_text.split('\\n')[view_sentence_range[0]:view_sentence_range[1]]))"
   ]
  },
  {
   "cell_type": "markdown",
   "metadata": {},
   "source": [
    "## Implement Preprocessing Function\n",
    "### Text to Word Ids\n",
    "As you did with other RNNs, you must turn the text into a number so the computer can understand it. In the function `text_to_ids()`, you'll turn `source_text` and `target_text` from words to ids.  However, you need to add the `<EOS>` word id at the end of `target_text`.  This will help the neural network predict when the sentence should end.\n",
    "\n",
    "You can get the `<EOS>` word id by doing:\n",
    "```python\n",
    "target_vocab_to_int['<EOS>']\n",
    "```\n",
    "You can get other word ids using `source_vocab_to_int` and `target_vocab_to_int`."
   ]
  },
  {
   "cell_type": "code",
   "execution_count": 3,
   "metadata": {},
   "outputs": [
    {
     "name": "stdout",
     "output_type": "stream",
     "text": [
      "Tests Passed\n"
     ]
    }
   ],
   "source": [
    "def text_to_ids(source_text, target_text, source_vocab_to_int, target_vocab_to_int):\n",
    "    \"\"\"\n",
    "    Convert source and target text to proper word ids\n",
    "    :param source_text: String that contains all the source text.\n",
    "    :param target_text: String that contains all the target text.\n",
    "    :param source_vocab_to_int: Dictionary to go from the source words to an id\n",
    "    :param target_vocab_to_int: Dictionary to go from the target words to an id\n",
    "    :return: A tuple of lists (source_id_text, target_id_text)\n",
    "    \"\"\"\n",
    "    # TODO: Implement Function\n",
    "   \n",
    " #     sourceid = []\n",
    "#     for sentense in source_text.split('\\n'):\n",
    "#         sourceid.append([source_vocab_to_int[word] for word in sentense.split()])\n",
    "    \n",
    "    sourceid = [[source_vocab_to_int[word] for word in sentense.split()] for sentense in source_text.split('\\n')]\n",
    "    \n",
    "#     targetid = []\n",
    "#     for sentense in target_text.split('\\n'):\n",
    "#         target_sentenseid = []\n",
    "#         for word in sentense.split():\n",
    "#             target_sentenseid.append(target_vocab_to_int[word])\n",
    "#         target_sentenseid.append(target_vocab_to_int['<EOS>'])\n",
    "#         targetid.append(target_sentenseid)\n",
    "    targetid = [[target_vocab_to_int[word] for word in sentense.split()] for sentense in target_text.split('\\n')]\n",
    "    \n",
    "    for targetidsentense in targetid:\n",
    "        targetidsentense.append(target_vocab_to_int['<EOS>'])\n",
    "    \n",
    "    return sourceid, targetid\n",
    "\n",
    "\"\"\"\n",
    "DON'T MODIFY ANYTHING IN THIS CELL THAT IS BELOW THIS LINE\n",
    "\"\"\"\n",
    "tests.test_text_to_ids(text_to_ids)"
   ]
  },
  {
   "cell_type": "markdown",
   "metadata": {},
   "source": [
    "### Preprocess all the data and save it\n",
    "Running the code cell below will preprocess all the data and save it to file."
   ]
  },
  {
   "cell_type": "code",
   "execution_count": 4,
   "metadata": {
    "collapsed": true
   },
   "outputs": [],
   "source": [
    "\"\"\"\n",
    "DON'T MODIFY ANYTHING IN THIS CELL\n",
    "\"\"\"\n",
    "helper.preprocess_and_save_data(source_path, target_path, text_to_ids)"
   ]
  },
  {
   "cell_type": "markdown",
   "metadata": {},
   "source": [
    "# Check Point\n",
    "This is your first checkpoint. If you ever decide to come back to this notebook or have to restart the notebook, you can start from here. The preprocessed data has been saved to disk."
   ]
  },
  {
   "cell_type": "code",
   "execution_count": 5,
   "metadata": {
    "collapsed": true
   },
   "outputs": [],
   "source": [
    "\"\"\"\n",
    "DON'T MODIFY ANYTHING IN THIS CELL\n",
    "\"\"\"\n",
    "import numpy as np\n",
    "import helper\n",
    "\n",
    "(source_int_text, target_int_text), (source_vocab_to_int, target_vocab_to_int), _ = helper.load_preprocess()"
   ]
  },
  {
   "cell_type": "markdown",
   "metadata": {},
   "source": [
    "### Check the Version of TensorFlow and Access to GPU\n",
    "This will check to make sure you have the correct version of TensorFlow and access to a GPU"
   ]
  },
  {
   "cell_type": "code",
   "execution_count": 6,
   "metadata": {},
   "outputs": [
    {
     "name": "stdout",
     "output_type": "stream",
     "text": [
      "TensorFlow Version: 1.1.0\n"
     ]
    },
    {
     "name": "stderr",
     "output_type": "stream",
     "text": [
      "C:\\Users\\lkor\\AppData\\Local\\Continuum\\Anaconda3\\envs\\tensorflow\\lib\\site-packages\\ipykernel_launcher.py:15: UserWarning: No GPU found. Please use a GPU to train your neural network.\n",
      "  from ipykernel import kernelapp as app\n"
     ]
    }
   ],
   "source": [
    "\"\"\"\n",
    "DON'T MODIFY ANYTHING IN THIS CELL\n",
    "\"\"\"\n",
    "from distutils.version import LooseVersion\n",
    "import warnings\n",
    "import tensorflow as tf\n",
    "from tensorflow.python.layers.core import Dense\n",
    "\n",
    "# Check TensorFlow Version\n",
    "assert LooseVersion(tf.__version__) >= LooseVersion('1.1'), 'Please use TensorFlow version 1.1 or newer'\n",
    "print('TensorFlow Version: {}'.format(tf.__version__))\n",
    "\n",
    "# Check for a GPU\n",
    "if not tf.test.gpu_device_name():\n",
    "    warnings.warn('No GPU found. Please use a GPU to train your neural network.')\n",
    "else:\n",
    "    print('Default GPU Device: {}'.format(tf.test.gpu_device_name()))"
   ]
  },
  {
   "cell_type": "markdown",
   "metadata": {},
   "source": [
    "## Build the Neural Network\n",
    "You'll build the components necessary to build a Sequence-to-Sequence model by implementing the following functions below:\n",
    "- `model_inputs`\n",
    "- `process_decoder_input`\n",
    "- `encoding_layer`\n",
    "- `decoding_layer_train`\n",
    "- `decoding_layer_infer`\n",
    "- `decoding_layer`\n",
    "- `seq2seq_model`\n",
    "\n",
    "### Input\n",
    "Implement the `model_inputs()` function to create TF Placeholders for the Neural Network. It should create the following placeholders:\n",
    "\n",
    "- Input text placeholder named \"input\" using the TF Placeholder name parameter with rank 2.\n",
    "- Targets placeholder with rank 2.\n",
    "- Learning rate placeholder with rank 0.\n",
    "- Keep probability placeholder named \"keep_prob\" using the TF Placeholder name parameter with rank 0.\n",
    "- Target sequence length placeholder named \"target_sequence_length\" with rank 1\n",
    "- Max target sequence length tensor named \"max_target_len\" getting its value from applying tf.reduce_max on the target_sequence_length placeholder. Rank 0.\n",
    "- Source sequence length placeholder named \"source_sequence_length\" with rank 1\n",
    "\n",
    "Return the placeholders in the following the tuple (input, targets, learning rate, keep probability, target sequence length, max target sequence length, source sequence length)"
   ]
  },
  {
   "cell_type": "code",
   "execution_count": 7,
   "metadata": {},
   "outputs": [
    {
     "name": "stdout",
     "output_type": "stream",
     "text": [
      "Tests Passed\n"
     ]
    }
   ],
   "source": [
    "def model_inputs():\n",
    "    \"\"\"\n",
    "    Create TF Placeholders for input, targets, learning rate, and lengths of source and target sequences.\n",
    "    :return: Tuple (input, targets, learning rate, keep probability, target sequence length,\n",
    "    max target sequence length, source sequence length)\n",
    "    \"\"\"\n",
    "    # TODO: Implement Function\n",
    "    inputx = tf.placeholder(tf.int32, [None, None], name='input')\n",
    "    targets = tf.placeholder(tf.int32, [None, None], name='target')\n",
    "    learning_rate = tf.placeholder(tf.float32, name='learningrate')\n",
    "    keep_prob = tf.placeholder(tf.float32, name='keep_prob')\n",
    "    target_sequence_length = tf.placeholder(tf.int32, [None], name='target_sequence_length')\n",
    "    max_target_len = tf.reduce_max(target_sequence_length)\n",
    "    source_sequence_length = tf.placeholder(tf.int32, [None],name='source_sequence_length')\n",
    "    return inputx, targets, learning_rate, keep_prob, target_sequence_length, max_target_len, source_sequence_length\n",
    "\n",
    "\n",
    "\"\"\"\n",
    "DON'T MODIFY ANYTHING IN THIS CELL THAT IS BELOW THIS LINE\n",
    "\"\"\"\n",
    "tests.test_model_inputs(model_inputs)"
   ]
  },
  {
   "cell_type": "markdown",
   "metadata": {},
   "source": [
    "### Process Decoder Input\n",
    "Implement `process_decoder_input` by removing the last word id from each batch in `target_data` and concat the GO ID to the begining of each batch."
   ]
  },
  {
   "cell_type": "code",
   "execution_count": 8,
   "metadata": {},
   "outputs": [
    {
     "name": "stdout",
     "output_type": "stream",
     "text": [
      "Tests Passed\n"
     ]
    }
   ],
   "source": [
    "def process_decoder_input(target_data, target_vocab_to_int, batch_size):\n",
    "    \"\"\"\n",
    "    Preprocess target data for encoding\n",
    "    :param target_data: Target Placehoder\n",
    "    :param target_vocab_to_int: Dictionary to go from the target words to an id\n",
    "    :param batch_size: Batch Size\n",
    "    :return: Preprocessed target data\n",
    "    \"\"\"\n",
    "    # TODO: Implement Function\n",
    "    decoder_inp = tf.strided_slice(target_data, [0,0], [batch_size, -1], [1,1])\n",
    "    decoder_pad = tf.concat([tf.fill([batch_size, 1], target_vocab_to_int['<GO>']), decoder_inp], 1)\n",
    "    return decoder_pad\n",
    "\n",
    "\"\"\"\n",
    "DON'T MODIFY ANYTHING IN THIS CELL THAT IS BELOW THIS LINE\n",
    "\"\"\"\n",
    "tests.test_process_encoding_input(process_decoder_input)"
   ]
  },
  {
   "cell_type": "markdown",
   "metadata": {},
   "source": [
    "### Encoding\n",
    "Implement `encoding_layer()` to create a Encoder RNN layer:\n",
    " * Embed the encoder input using [`tf.contrib.layers.embed_sequence`](https://www.tensorflow.org/api_docs/python/tf/contrib/layers/embed_sequence)\n",
    " * Construct a [stacked](https://github.com/tensorflow/tensorflow/blob/6947f65a374ebf29e74bb71e36fd82760056d82c/tensorflow/docs_src/tutorials/recurrent.md#stacking-multiple-lstms) [`tf.contrib.rnn.LSTMCell`](https://www.tensorflow.org/api_docs/python/tf/contrib/rnn/LSTMCell) wrapped in a [`tf.contrib.rnn.DropoutWrapper`](https://www.tensorflow.org/api_docs/python/tf/contrib/rnn/DropoutWrapper)\n",
    " * Pass cell and embedded input to [`tf.nn.dynamic_rnn()`](https://www.tensorflow.org/api_docs/python/tf/nn/dynamic_rnn)"
   ]
  },
  {
   "cell_type": "code",
   "execution_count": 9,
   "metadata": {
    "scrolled": false
   },
   "outputs": [
    {
     "name": "stdout",
     "output_type": "stream",
     "text": [
      "Tests Passed\n"
     ]
    }
   ],
   "source": [
    "from imp import reload\n",
    "reload(tests)\n",
    "\n",
    "def encoding_layer(rnn_inputs, rnn_size, num_layers, keep_prob, \n",
    "                   source_sequence_length, source_vocab_size, \n",
    "                   encoding_embedding_size):\n",
    "    \"\"\"\n",
    "    Create encoding layer\n",
    "    :param rnn_inputs: Inputs for the RNN\n",
    "    :param rnn_size: RNN Size\n",
    "    :param num_layers: Number of layers\n",
    "    :param keep_prob: Dropout keep probability\n",
    "    :param source_sequence_length: a list of the lengths of each sequence in the batch\n",
    "    :param source_vocab_size: vocabulary size of source data\n",
    "    :param encoding_embedding_size: embedding size of source data\n",
    "    :return: tuple (RNN output, RNN state)\n",
    "    \"\"\"\n",
    "    # TODO: Implement Function\n",
    "    embed = tf.contrib.layers.embed_sequence(rnn_inputs, source_vocab_size, encoding_embedding_size)\n",
    "    \n",
    "    \n",
    "    def build_cell(rnn_size, keep_prob):\n",
    "        lstm = tf.contrib.rnn.LSTMCell(rnn_size, initializer=tf.random_uniform_initializer(-0.1, 0.1, seed=2))\n",
    "        drop = tf.contrib.rnn.DropoutWrapper(lstm, output_keep_prob=keep_prob)\n",
    "        return drop\n",
    "\n",
    "    enc_rnn = tf.contrib.rnn.MultiRNNCell([build_cell(rnn_size, keep_prob) for _ in range(num_layers)])\n",
    "    \n",
    "    output, states = tf.nn.dynamic_rnn(enc_rnn, embed, sequence_length=source_sequence_length, dtype = tf.float32)\n",
    "    \n",
    "    return output, states\n",
    "\n",
    "\"\"\"\n",
    "DON'T MODIFY ANYTHING IN THIS CELL THAT IS BELOW THIS LINE\n",
    "\"\"\"\n",
    "tests.test_encoding_layer(encoding_layer)"
   ]
  },
  {
   "cell_type": "markdown",
   "metadata": {},
   "source": [
    "### Decoding - Training\n",
    "Create a training decoding layer:\n",
    "* Create a [`tf.contrib.seq2seq.TrainingHelper`](https://www.tensorflow.org/api_docs/python/tf/contrib/seq2seq/TrainingHelper) \n",
    "* Create a [`tf.contrib.seq2seq.BasicDecoder`](https://www.tensorflow.org/api_docs/python/tf/contrib/seq2seq/BasicDecoder)\n",
    "* Obtain the decoder outputs from [`tf.contrib.seq2seq.dynamic_decode`](https://www.tensorflow.org/api_docs/python/tf/contrib/seq2seq/dynamic_decode)"
   ]
  },
  {
   "cell_type": "code",
   "execution_count": 10,
   "metadata": {},
   "outputs": [
    {
     "name": "stdout",
     "output_type": "stream",
     "text": [
      "Tests Passed\n"
     ]
    }
   ],
   "source": [
    "\n",
    "def decoding_layer_train(encoder_state, dec_cell, dec_embed_input, \n",
    "                         target_sequence_length, max_summary_length, \n",
    "                         output_layer, keep_prob):\n",
    "    \"\"\"\n",
    "    Create a decoding layer for training\n",
    "    :param encoder_state: Encoder State\n",
    "    :param dec_cell: Decoder RNN Cell\n",
    "    :param dec_embed_input: Decoder embedded input\n",
    "    :param target_sequence_length: The lengths of each sequence in the target batch\n",
    "    :param max_summary_length: The length of the longest sequence in the batch\n",
    "    :param output_layer: Function to apply the output layer\n",
    "    :param keep_prob: Dropout keep probability\n",
    "    :return: BasicDecoderOutput containing training logits and sample_id\n",
    "    \"\"\"\n",
    "    # TODO: Implement Function\n",
    "    training_helper = tf.contrib.seq2seq.TrainingHelper(inputs = dec_embed_input,\n",
    "                                                        sequence_length = target_sequence_length)\n",
    "    \n",
    "    training_decoder = tf.contrib.seq2seq.BasicDecoder(dec_cell, training_helper, \n",
    "                                                    encoder_state, output_layer)\n",
    "    \n",
    "    output, sample_id = tf.contrib.seq2seq.dynamic_decode(training_decoder, impute_finished=True,\n",
    "                                                         maximum_iterations = max_summary_length)\n",
    "    \n",
    "    return output \n",
    "\n",
    "\n",
    "\n",
    "\"\"\"\n",
    "DON'T MODIFY ANYTHING IN THIS CELL THAT IS BELOW THIS LINE\n",
    "\"\"\"\n",
    "tests.test_decoding_layer_train(decoding_layer_train)"
   ]
  },
  {
   "cell_type": "markdown",
   "metadata": {},
   "source": [
    "### Decoding - Inference\n",
    "Create inference decoder:\n",
    "* Create a [`tf.contrib.seq2seq.GreedyEmbeddingHelper`](https://www.tensorflow.org/api_docs/python/tf/contrib/seq2seq/GreedyEmbeddingHelper)\n",
    "* Create a [`tf.contrib.seq2seq.BasicDecoder`](https://www.tensorflow.org/api_docs/python/tf/contrib/seq2seq/BasicDecoder)\n",
    "* Obtain the decoder outputs from [`tf.contrib.seq2seq.dynamic_decode`](https://www.tensorflow.org/api_docs/python/tf/contrib/seq2seq/dynamic_decode)"
   ]
  },
  {
   "cell_type": "code",
   "execution_count": 24,
   "metadata": {
    "scrolled": true
   },
   "outputs": [
    {
     "name": "stdout",
     "output_type": "stream",
     "text": [
      "Tests Passed\n"
     ]
    }
   ],
   "source": [
    "def decoding_layer_infer(encoder_state, dec_cell, dec_embeddings, start_of_sequence_id,\n",
    "                         end_of_sequence_id, max_target_sequence_length,\n",
    "                         vocab_size, output_layer, batch_size, keep_prob):\n",
    "    \"\"\"\n",
    "    Create a decoding layer for inference\n",
    "    :param encoder_state: Encoder state\n",
    "    :param dec_cell: Decoder RNN Cell\n",
    "    :param dec_embeddings: Decoder embeddings\n",
    "    :param start_of_sequence_id: GO ID\n",
    "    :param end_of_sequence_id: EOS Id\n",
    "    :param max_target_sequence_length: Maximum length of target sequences\n",
    "    :param vocab_size: Size of decoder/target vocabulary\n",
    "    :param decoding_scope: TenorFlow Variable Scope for decoding\n",
    "    :param output_layer: Function to apply the output layer\n",
    "    :param batch_size: Batch size\n",
    "    :param keep_prob: Dropout keep probability\n",
    "    :return: BasicDecoderOutput containing inference logits and sample_id\n",
    "    \"\"\"\n",
    "    # TODO: Implement Function\n",
    "#     print(encoder_state)\n",
    "#     print(dec_cell)\n",
    "#     print(dec_embeddings)\n",
    "#     print(start_of_sequence_id)\n",
    "#     print(end_of_sequence_id)\n",
    "#     print(max_target_sequence_length)\n",
    "#     print(vocab_size)\n",
    "#     print(output_layer)\n",
    "#     print(batch_size)\n",
    "#     print(keep_prob)\n",
    "    \n",
    "    #start_tokens = [tf.constant(start_of_sequence_id, dtype=tf.int32) for i in range(batch_size)]\n",
    "    start_tokens = tf.tile(tf.constant([start_of_sequence_id], dtype=tf.int32),[batch_size], name='start_tokens')\n",
    "    \n",
    "    inference_helper = tf.contrib.seq2seq.GreedyEmbeddingHelper(dec_embeddings, start_tokens, end_of_sequence_id)\n",
    "    \n",
    "    inference_decoder = tf.contrib.seq2seq.BasicDecoder(dec_cell, inference_helper, \n",
    "                                                    encoder_state, output_layer)\n",
    "    \n",
    "    inference_output, sample_id = tf.contrib.seq2seq.dynamic_decode(inference_decoder, impute_finished=True,\n",
    "                                                         maximum_iterations = max_target_sequence_length)\n",
    "        \n",
    "    return inference_output\n",
    "\n",
    "\n",
    "\n",
    "\"\"\"\n",
    "DON'T MODIFY ANYTHING IN THIS CELL THAT IS BELOW THIS LINE\n",
    "\"\"\"\n",
    "tests.test_decoding_layer_infer(decoding_layer_infer)"
   ]
  },
  {
   "cell_type": "markdown",
   "metadata": {},
   "source": [
    "### Build the Decoding Layer\n",
    "Implement `decoding_layer()` to create a Decoder RNN layer.\n",
    "\n",
    "* Embed the target sequences\n",
    "* Construct the decoder LSTM cell (just like you constructed the encoder cell above)\n",
    "* Create an output layer to map the outputs of the decoder to the elements of our vocabulary\n",
    "* Use the your `decoding_layer_train(encoder_state, dec_cell, dec_embed_input, target_sequence_length, max_target_sequence_length, output_layer, keep_prob)` function to get the training logits.\n",
    "* Use your `decoding_layer_infer(encoder_state, dec_cell, dec_embeddings, start_of_sequence_id, end_of_sequence_id, max_target_sequence_length, vocab_size, output_layer, batch_size, keep_prob)` function to get the inference logits.\n",
    "\n",
    "Note: You'll need to use [tf.variable_scope](https://www.tensorflow.org/api_docs/python/tf/variable_scope) to share variables between training and inference."
   ]
  },
  {
   "cell_type": "code",
   "execution_count": 28,
   "metadata": {},
   "outputs": [
    {
     "name": "stdout",
     "output_type": "stream",
     "text": [
      "Tests Passed\n"
     ]
    }
   ],
   "source": [
    "def decoding_layer(dec_input, encoder_state,\n",
    "                   target_sequence_length, max_target_sequence_length,\n",
    "                   rnn_size,\n",
    "                   num_layers, target_vocab_to_int, target_vocab_size,\n",
    "                   batch_size, keep_prob, decoding_embedding_size):\n",
    "    \"\"\"\n",
    "    Create decoding layer\n",
    "    :param dec_input: Decoder input\n",
    "    :param encoder_state: Encoder state\n",
    "    :param target_sequence_length: The lengths of each sequence in the target batch\n",
    "    :param max_target_sequence_length: Maximum length of target sequences\n",
    "    :param rnn_size: RNN Size\n",
    "    :param num_layers: Number of layers\n",
    "    :param target_vocab_to_int: Dictionary to go from the target words to an id\n",
    "    :param target_vocab_size: Size of target vocabulary\n",
    "    :param batch_size: The size of the batch\n",
    "    :param keep_prob: Dropout keep probability\n",
    "    :param decoding_embedding_size: Decoding embedding size\n",
    "    :return: Tuple of (Training BasicDecoderOutput, Inference BasicDecoderOutput)\n",
    "    \"\"\"\n",
    "    # TODO: Implement Function\n",
    "    #dec_embed = tf.contrib.layers.embed_sequence(dec_input, target_vocab_size, decoding_embedding_size)    \n",
    "    \n",
    "    dec_embeddings = tf.Variable(tf.random_uniform([target_vocab_size, decoding_embedding_size]))\n",
    "    dec_embed = tf.nn.embedding_lookup(dec_embeddings, dec_input)\n",
    "    \n",
    "        \n",
    "    def build_cell(rnn_size, keep_prob):\n",
    "        lstm = tf.contrib.rnn.LSTMCell(rnn_size, initializer=tf.random_uniform_initializer(-0.1, 0.1, seed=2))\n",
    "        drop = tf.contrib.rnn.DropoutWrapper(lstm, output_keep_prob=keep_prob)\n",
    "        return drop\n",
    "\n",
    "    dec_rnn = tf.contrib.rnn.MultiRNNCell([build_cell(rnn_size, keep_prob) for _ in range(num_layers)])\n",
    "    \n",
    "    output_layer = Dense(target_vocab_size,\n",
    "                         kernel_initializer = tf.truncated_normal_initializer(mean = 0.0, stddev=0.1))\n",
    "    \n",
    "    with tf.variable_scope(\"decode\"):\n",
    "        train_logits = decoding_layer_train(encoder_state, dec_rnn, dec_embed, target_sequence_length, \n",
    "                                        max_target_sequence_length, output_layer, keep_prob)\n",
    "    \n",
    "    with tf.variable_scope(\"decode\", reuse=True):\n",
    "        infer_logits = decoding_layer_infer(encoder_state, dec_rnn, dec_embeddings, target_vocab_to_int['<GO>'], \n",
    "                                        target_vocab_to_int['<EOS>'], max_target_sequence_length, \n",
    "                                        target_vocab_size, output_layer, batch_size, keep_prob)    \n",
    "  \n",
    "    return train_logits, infer_logits\n",
    "\n",
    "\n",
    "\n",
    "\"\"\"\n",
    "DON'T MODIFY ANYTHING IN THIS CELL THAT IS BELOW THIS LINE\n",
    "\"\"\"\n",
    "tests.test_decoding_layer(decoding_layer)"
   ]
  },
  {
   "cell_type": "markdown",
   "metadata": {},
   "source": [
    "### Build the Neural Network\n",
    "Apply the functions you implemented above to:\n",
    "\n",
    "- Encode the input using your `encoding_layer(rnn_inputs, rnn_size, num_layers, keep_prob,  source_sequence_length, source_vocab_size, encoding_embedding_size)`.\n",
    "- Process target data using your `process_decoder_input(target_data, target_vocab_to_int, batch_size)` function.\n",
    "- Decode the encoded input using your `decoding_layer(dec_input, enc_state, target_sequence_length, max_target_sentence_length, rnn_size, num_layers, target_vocab_to_int, target_vocab_size, batch_size, keep_prob, dec_embedding_size)` function."
   ]
  },
  {
   "cell_type": "code",
   "execution_count": 29,
   "metadata": {},
   "outputs": [
    {
     "name": "stdout",
     "output_type": "stream",
     "text": [
      "Tests Passed\n"
     ]
    }
   ],
   "source": [
    "def seq2seq_model(input_data, target_data, keep_prob, batch_size,\n",
    "                  source_sequence_length, target_sequence_length,\n",
    "                  max_target_sentence_length,\n",
    "                  source_vocab_size, target_vocab_size,\n",
    "                  enc_embedding_size, dec_embedding_size,\n",
    "                  rnn_size, num_layers, target_vocab_to_int):\n",
    "    \"\"\"\n",
    "    Build the Sequence-to-Sequence part of the neural network\n",
    "    :param input_data: Input placeholder\n",
    "    :param target_data: Target placeholder\n",
    "    :param keep_prob: Dropout keep probability placeholder\n",
    "    :param batch_size: Batch Size\n",
    "    :param source_sequence_length: Sequence Lengths of source sequences in the batch\n",
    "    :param target_sequence_length: Sequence Lengths of target sequences in the batch\n",
    "    :param source_vocab_size: Source vocabulary size\n",
    "    :param target_vocab_size: Target vocabulary size\n",
    "    :param enc_embedding_size: Decoder embedding size\n",
    "    :param dec_embedding_size: Encoder embedding size\n",
    "    :param rnn_size: RNN Size\n",
    "    :param num_layers: Number of layers\n",
    "    :param target_vocab_to_int: Dictionary to go from the target words to an id\n",
    "    :return: Tuple of (Training BasicDecoderOutput, Inference BasicDecoderOutput)\n",
    "    \"\"\"\n",
    "    # TODO: Implement Function\n",
    "    enc_logits, enc_state = encoding_layer(input_data, rnn_size, num_layers, keep_prob,  source_sequence_length, \n",
    "                                           source_vocab_size, enc_embedding_size)\n",
    "    dec_input = process_decoder_input(target_data, target_vocab_to_int, batch_size)\n",
    "    \n",
    "    train_out, infer_out = decoding_layer(dec_input, enc_state, target_sequence_length, max_target_sentence_length, rnn_size, num_layers,\n",
    "                   target_vocab_to_int, target_vocab_size, batch_size, keep_prob, dec_embedding_size)\n",
    "    return train_out, infer_out\n",
    "\n",
    "\n",
    "\"\"\"\n",
    "DON'T MODIFY ANYTHING IN THIS CELL THAT IS BELOW THIS LINE\n",
    "\"\"\"\n",
    "tests.test_seq2seq_model(seq2seq_model)"
   ]
  },
  {
   "cell_type": "markdown",
   "metadata": {},
   "source": [
    "## Neural Network Training\n",
    "### Hyperparameters\n",
    "Tune the following parameters:\n",
    "\n",
    "- Set `epochs` to the number of epochs.\n",
    "- Set `batch_size` to the batch size.\n",
    "- Set `rnn_size` to the size of the RNNs.\n",
    "- Set `num_layers` to the number of layers.\n",
    "- Set `encoding_embedding_size` to the size of the embedding for the encoder.\n",
    "- Set `decoding_embedding_size` to the size of the embedding for the decoder.\n",
    "- Set `learning_rate` to the learning rate.\n",
    "- Set `keep_probability` to the Dropout keep probability\n",
    "- Set `display_step` to state how many steps between each debug output statement"
   ]
  },
  {
   "cell_type": "code",
   "execution_count": 42,
   "metadata": {
    "collapsed": true
   },
   "outputs": [],
   "source": [
    "# Number of Epochs\n",
    "epochs = 20\n",
    "# Batch Size\n",
    "batch_size = 128\n",
    "# RNN Size\n",
    "rnn_size = 128\n",
    "# Number of Layers\n",
    "num_layers = 3\n",
    "# Embedding Size\n",
    "encoding_embedding_size = 128\n",
    "decoding_embedding_size = 128\n",
    "# Learning Rate\n",
    "learning_rate = 0.001\n",
    "# Dropout Keep Probability\n",
    "keep_probability = 0.6\n",
    "display_step = 100"
   ]
  },
  {
   "cell_type": "markdown",
   "metadata": {},
   "source": [
    "### Build the Graph\n",
    "Build the graph using the neural network you implemented."
   ]
  },
  {
   "cell_type": "code",
   "execution_count": 43,
   "metadata": {
    "collapsed": true
   },
   "outputs": [],
   "source": [
    "\"\"\"\n",
    "DON'T MODIFY ANYTHING IN THIS CELL\n",
    "\"\"\"\n",
    "save_path = 'checkpoints/dev'\n",
    "(source_int_text, target_int_text), (source_vocab_to_int, target_vocab_to_int), _ = helper.load_preprocess()\n",
    "max_target_sentence_length = max([len(sentence) for sentence in source_int_text])\n",
    "\n",
    "train_graph = tf.Graph()\n",
    "with train_graph.as_default():\n",
    "    input_data, targets, lr, keep_prob, target_sequence_length, max_target_sequence_length, source_sequence_length = model_inputs()\n",
    "\n",
    "    #sequence_length = tf.placeholder_with_default(max_target_sentence_length, None, name='sequence_length')\n",
    "    input_shape = tf.shape(input_data)\n",
    "\n",
    "    train_logits, inference_logits = seq2seq_model(tf.reverse(input_data, [-1]),\n",
    "                                                   targets,\n",
    "                                                   keep_prob,\n",
    "                                                   batch_size,\n",
    "                                                   source_sequence_length,\n",
    "                                                   target_sequence_length,\n",
    "                                                   max_target_sequence_length,\n",
    "                                                   len(source_vocab_to_int),\n",
    "                                                   len(target_vocab_to_int),\n",
    "                                                   encoding_embedding_size,\n",
    "                                                   decoding_embedding_size,\n",
    "                                                   rnn_size,\n",
    "                                                   num_layers,\n",
    "                                                   target_vocab_to_int)\n",
    "\n",
    "\n",
    "    training_logits = tf.identity(train_logits.rnn_output, name='logits')\n",
    "    inference_logits = tf.identity(inference_logits.sample_id, name='predictions')\n",
    "\n",
    "    masks = tf.sequence_mask(target_sequence_length, max_target_sequence_length, dtype=tf.float32, name='masks')\n",
    "\n",
    "    with tf.name_scope(\"optimization\"):\n",
    "        # Loss function\n",
    "        cost = tf.contrib.seq2seq.sequence_loss(\n",
    "            training_logits,\n",
    "            targets,\n",
    "            masks)\n",
    "\n",
    "        # Optimizer\n",
    "        optimizer = tf.train.AdamOptimizer(lr)\n",
    "\n",
    "        # Gradient Clipping\n",
    "        gradients = optimizer.compute_gradients(cost)\n",
    "        capped_gradients = [(tf.clip_by_value(grad, -1., 1.), var) for grad, var in gradients if grad is not None]\n",
    "        train_op = optimizer.apply_gradients(capped_gradients)\n"
   ]
  },
  {
   "cell_type": "markdown",
   "metadata": {},
   "source": [
    "Batch and pad the source and target sequences"
   ]
  },
  {
   "cell_type": "code",
   "execution_count": 44,
   "metadata": {
    "collapsed": true
   },
   "outputs": [],
   "source": [
    "\"\"\"\n",
    "DON'T MODIFY ANYTHING IN THIS CELL\n",
    "\"\"\"\n",
    "def pad_sentence_batch(sentence_batch, pad_int):\n",
    "    \"\"\"Pad sentences with <PAD> so that each sentence of a batch has the same length\"\"\"\n",
    "    max_sentence = max([len(sentence) for sentence in sentence_batch])\n",
    "    return [sentence + [pad_int] * (max_sentence - len(sentence)) for sentence in sentence_batch]\n",
    "\n",
    "\n",
    "def get_batches(sources, targets, batch_size, source_pad_int, target_pad_int):\n",
    "    \"\"\"Batch targets, sources, and the lengths of their sentences together\"\"\"\n",
    "    for batch_i in range(0, len(sources)//batch_size):\n",
    "        start_i = batch_i * batch_size\n",
    "\n",
    "        # Slice the right amount for the batch\n",
    "        sources_batch = sources[start_i:start_i + batch_size]\n",
    "        targets_batch = targets[start_i:start_i + batch_size]\n",
    "\n",
    "        # Pad\n",
    "        pad_sources_batch = np.array(pad_sentence_batch(sources_batch, source_pad_int))\n",
    "        pad_targets_batch = np.array(pad_sentence_batch(targets_batch, target_pad_int))\n",
    "\n",
    "        # Need the lengths for the _lengths parameters\n",
    "        pad_targets_lengths = []\n",
    "        for target in pad_targets_batch:\n",
    "            pad_targets_lengths.append(len(target))\n",
    "\n",
    "        pad_source_lengths = []\n",
    "        for source in pad_sources_batch:\n",
    "            pad_source_lengths.append(len(source))\n",
    "\n",
    "        yield pad_sources_batch, pad_targets_batch, pad_source_lengths, pad_targets_lengths\n"
   ]
  },
  {
   "cell_type": "markdown",
   "metadata": {},
   "source": [
    "### Train\n",
    "Train the neural network on the preprocessed data. If you have a hard time getting a good loss, check the forms to see if anyone is having the same problem."
   ]
  },
  {
   "cell_type": "code",
   "execution_count": 41,
   "metadata": {
    "scrolled": false
   },
   "outputs": [
    {
     "name": "stdout",
     "output_type": "stream",
     "text": [
      "Epoch   0 Batch    5/1077 - Train Accuracy: 0.2605, Validation Accuracy: 0.3050, Loss: 5.7381\n",
      "Epoch   0 Batch   10/1077 - Train Accuracy: 0.1982, Validation Accuracy: 0.3050, Loss: 5.4533\n",
      "Epoch   0 Batch   15/1077 - Train Accuracy: 0.2355, Validation Accuracy: 0.3050, Loss: 4.9881\n",
      "Epoch   0 Batch   20/1077 - Train Accuracy: 0.2316, Validation Accuracy: 0.3050, Loss: 4.6290\n",
      "Epoch   0 Batch   25/1077 - Train Accuracy: 0.2484, Validation Accuracy: 0.3185, Loss: 4.3199\n",
      "Epoch   0 Batch   30/1077 - Train Accuracy: 0.2277, Validation Accuracy: 0.3050, Loss: 4.0542\n",
      "Epoch   0 Batch   35/1077 - Train Accuracy: 0.2340, Validation Accuracy: 0.3050, Loss: 3.8612\n",
      "Epoch   0 Batch   40/1077 - Train Accuracy: 0.2434, Validation Accuracy: 0.3185, Loss: 3.7718\n",
      "Epoch   0 Batch   45/1077 - Train Accuracy: 0.2648, Validation Accuracy: 0.3356, Loss: 3.6803\n",
      "Epoch   0 Batch   50/1077 - Train Accuracy: 0.2602, Validation Accuracy: 0.3363, Loss: 3.6674\n",
      "Epoch   0 Batch   55/1077 - Train Accuracy: 0.2914, Validation Accuracy: 0.3366, Loss: 3.4968\n",
      "Epoch   0 Batch   60/1077 - Train Accuracy: 0.2980, Validation Accuracy: 0.3363, Loss: 3.4566\n",
      "Epoch   0 Batch   65/1077 - Train Accuracy: 0.2290, Validation Accuracy: 0.3363, Loss: 3.6570\n",
      "Epoch   0 Batch   70/1077 - Train Accuracy: 0.2307, Validation Accuracy: 0.3363, Loss: 3.6143\n",
      "Epoch   0 Batch   75/1077 - Train Accuracy: 0.2828, Validation Accuracy: 0.3377, Loss: 3.3996\n",
      "Epoch   0 Batch   80/1077 - Train Accuracy: 0.3043, Validation Accuracy: 0.3601, Loss: 3.3955\n",
      "Epoch   0 Batch   85/1077 - Train Accuracy: 0.3113, Validation Accuracy: 0.3665, Loss: 3.3143\n",
      "Epoch   0 Batch   90/1077 - Train Accuracy: 0.2918, Validation Accuracy: 0.3576, Loss: 3.3979\n",
      "Epoch   0 Batch   95/1077 - Train Accuracy: 0.3430, Validation Accuracy: 0.3615, Loss: 3.2056\n",
      "Epoch   0 Batch  100/1077 - Train Accuracy: 0.3000, Validation Accuracy: 0.3693, Loss: 3.3628\n",
      "Epoch   0 Batch  105/1077 - Train Accuracy: 0.3227, Validation Accuracy: 0.3722, Loss: 3.2619\n",
      "Epoch   0 Batch  110/1077 - Train Accuracy: 0.3242, Validation Accuracy: 0.3711, Loss: 3.2268\n",
      "Epoch   0 Batch  115/1077 - Train Accuracy: 0.3172, Validation Accuracy: 0.3658, Loss: 3.2580\n",
      "Epoch   0 Batch  120/1077 - Train Accuracy: 0.3195, Validation Accuracy: 0.3796, Loss: 3.2617\n",
      "Epoch   0 Batch  125/1077 - Train Accuracy: 0.3419, Validation Accuracy: 0.3839, Loss: 3.1507\n",
      "Epoch   0 Batch  130/1077 - Train Accuracy: 0.3538, Validation Accuracy: 0.3885, Loss: 3.0848\n",
      "Epoch   0 Batch  135/1077 - Train Accuracy: 0.3141, Validation Accuracy: 0.3892, Loss: 3.2574\n",
      "Epoch   0 Batch  140/1077 - Train Accuracy: 0.3006, Validation Accuracy: 0.3931, Loss: 3.3244\n",
      "Epoch   0 Batch  145/1077 - Train Accuracy: 0.3430, Validation Accuracy: 0.3963, Loss: 3.1201\n",
      "Epoch   0 Batch  150/1077 - Train Accuracy: 0.3810, Validation Accuracy: 0.3970, Loss: 3.0063\n",
      "Epoch   0 Batch  155/1077 - Train Accuracy: 0.3426, Validation Accuracy: 0.3924, Loss: 3.1007\n",
      "Epoch   0 Batch  160/1077 - Train Accuracy: 0.3336, Validation Accuracy: 0.3931, Loss: 3.0740\n",
      "Epoch   0 Batch  165/1077 - Train Accuracy: 0.3324, Validation Accuracy: 0.3988, Loss: 3.1080\n",
      "Epoch   0 Batch  170/1077 - Train Accuracy: 0.3254, Validation Accuracy: 0.3988, Loss: 3.1807\n",
      "Epoch   0 Batch  175/1077 - Train Accuracy: 0.3566, Validation Accuracy: 0.3970, Loss: 2.9960\n",
      "Epoch   0 Batch  180/1077 - Train Accuracy: 0.3473, Validation Accuracy: 0.3995, Loss: 3.0379\n",
      "Epoch   0 Batch  185/1077 - Train Accuracy: 0.3402, Validation Accuracy: 0.3981, Loss: 3.0326\n",
      "Epoch   0 Batch  190/1077 - Train Accuracy: 0.3277, Validation Accuracy: 0.3906, Loss: 3.0358\n",
      "Epoch   0 Batch  195/1077 - Train Accuracy: 0.3320, Validation Accuracy: 0.4034, Loss: 3.0466\n",
      "Epoch   0 Batch  200/1077 - Train Accuracy: 0.3520, Validation Accuracy: 0.4055, Loss: 2.9677\n",
      "Epoch   0 Batch  205/1077 - Train Accuracy: 0.3660, Validation Accuracy: 0.4144, Loss: 2.9578\n",
      "Epoch   0 Batch  210/1077 - Train Accuracy: 0.3888, Validation Accuracy: 0.4148, Loss: 2.8730\n",
      "Epoch   0 Batch  215/1077 - Train Accuracy: 0.3492, Validation Accuracy: 0.4141, Loss: 2.9744\n",
      "Epoch   0 Batch  220/1077 - Train Accuracy: 0.3487, Validation Accuracy: 0.4205, Loss: 3.0144\n",
      "Epoch   0 Batch  225/1077 - Train Accuracy: 0.3660, Validation Accuracy: 0.4212, Loss: 2.9137\n",
      "Epoch   0 Batch  230/1077 - Train Accuracy: 0.4048, Validation Accuracy: 0.4251, Loss: 2.7456\n",
      "Epoch   0 Batch  235/1077 - Train Accuracy: 0.4263, Validation Accuracy: 0.4343, Loss: 2.7194\n",
      "Epoch   0 Batch  240/1077 - Train Accuracy: 0.3980, Validation Accuracy: 0.4382, Loss: 2.8161\n",
      "Epoch   0 Batch  245/1077 - Train Accuracy: 0.4081, Validation Accuracy: 0.4453, Loss: 2.7499\n",
      "Epoch   0 Batch  250/1077 - Train Accuracy: 0.4339, Validation Accuracy: 0.4474, Loss: 2.6466\n",
      "Epoch   0 Batch  255/1077 - Train Accuracy: 0.3883, Validation Accuracy: 0.4425, Loss: 2.8097\n",
      "Epoch   0 Batch  260/1077 - Train Accuracy: 0.4141, Validation Accuracy: 0.4439, Loss: 2.6982\n",
      "Epoch   0 Batch  265/1077 - Train Accuracy: 0.3992, Validation Accuracy: 0.4432, Loss: 2.7524\n",
      "Epoch   0 Batch  270/1077 - Train Accuracy: 0.3648, Validation Accuracy: 0.4474, Loss: 2.9074\n",
      "Epoch   0 Batch  275/1077 - Train Accuracy: 0.4319, Validation Accuracy: 0.4485, Loss: 2.6203\n",
      "Epoch   0 Batch  280/1077 - Train Accuracy: 0.4023, Validation Accuracy: 0.4492, Loss: 2.7505\n",
      "Epoch   0 Batch  285/1077 - Train Accuracy: 0.4319, Validation Accuracy: 0.4460, Loss: 2.6115\n",
      "Epoch   0 Batch  290/1077 - Train Accuracy: 0.3996, Validation Accuracy: 0.4485, Loss: 2.7486\n",
      "Epoch   0 Batch  295/1077 - Train Accuracy: 0.3886, Validation Accuracy: 0.4535, Loss: 2.8070\n",
      "Epoch   0 Batch  300/1077 - Train Accuracy: 0.3643, Validation Accuracy: 0.4503, Loss: 2.8552\n",
      "Epoch   0 Batch  305/1077 - Train Accuracy: 0.4113, Validation Accuracy: 0.4542, Loss: 2.6846\n",
      "Epoch   0 Batch  310/1077 - Train Accuracy: 0.3875, Validation Accuracy: 0.4485, Loss: 2.7478\n",
      "Epoch   0 Batch  315/1077 - Train Accuracy: 0.4293, Validation Accuracy: 0.4613, Loss: 2.6067\n",
      "Epoch   0 Batch  320/1077 - Train Accuracy: 0.4102, Validation Accuracy: 0.4574, Loss: 2.6961\n",
      "Epoch   0 Batch  325/1077 - Train Accuracy: 0.4408, Validation Accuracy: 0.4553, Loss: 2.5061\n",
      "Epoch   0 Batch  330/1077 - Train Accuracy: 0.4137, Validation Accuracy: 0.4545, Loss: 2.6361\n",
      "Epoch   0 Batch  335/1077 - Train Accuracy: 0.4453, Validation Accuracy: 0.4599, Loss: 2.4586\n",
      "Epoch   0 Batch  340/1077 - Train Accuracy: 0.3910, Validation Accuracy: 0.4648, Loss: 2.7586\n",
      "Epoch   0 Batch  345/1077 - Train Accuracy: 0.4327, Validation Accuracy: 0.4688, Loss: 2.5669\n",
      "Epoch   0 Batch  350/1077 - Train Accuracy: 0.3969, Validation Accuracy: 0.4695, Loss: 2.7316\n",
      "Epoch   0 Batch  355/1077 - Train Accuracy: 0.4211, Validation Accuracy: 0.4645, Loss: 2.6097\n",
      "Epoch   0 Batch  360/1077 - Train Accuracy: 0.4059, Validation Accuracy: 0.4563, Loss: 2.6068\n",
      "Epoch   0 Batch  365/1077 - Train Accuracy: 0.3805, Validation Accuracy: 0.4560, Loss: 2.6733\n",
      "Epoch   0 Batch  370/1077 - Train Accuracy: 0.4219, Validation Accuracy: 0.4602, Loss: 2.5687\n",
      "Epoch   0 Batch  375/1077 - Train Accuracy: 0.4666, Validation Accuracy: 0.4641, Loss: 2.3928\n",
      "Epoch   0 Batch  380/1077 - Train Accuracy: 0.4078, Validation Accuracy: 0.4616, Loss: 2.5603\n",
      "Epoch   0 Batch  385/1077 - Train Accuracy: 0.3992, Validation Accuracy: 0.4645, Loss: 2.6325\n",
      "Epoch   0 Batch  390/1077 - Train Accuracy: 0.3926, Validation Accuracy: 0.4719, Loss: 2.7060\n",
      "Epoch   0 Batch  395/1077 - Train Accuracy: 0.4598, Validation Accuracy: 0.4790, Loss: 2.4362\n",
      "Epoch   0 Batch  400/1077 - Train Accuracy: 0.4164, Validation Accuracy: 0.4780, Loss: 2.5884\n",
      "Epoch   0 Batch  405/1077 - Train Accuracy: 0.4145, Validation Accuracy: 0.4741, Loss: 2.6281\n",
      "Epoch   0 Batch  410/1077 - Train Accuracy: 0.4038, Validation Accuracy: 0.4783, Loss: 2.6433\n",
      "Epoch   0 Batch  415/1077 - Train Accuracy: 0.4650, Validation Accuracy: 0.4851, Loss: 2.4354\n",
      "Epoch   0 Batch  420/1077 - Train Accuracy: 0.4227, Validation Accuracy: 0.4805, Loss: 2.5514\n",
      "Epoch   0 Batch  425/1077 - Train Accuracy: 0.4446, Validation Accuracy: 0.4798, Loss: 2.4748\n",
      "Epoch   0 Batch  430/1077 - Train Accuracy: 0.4168, Validation Accuracy: 0.4769, Loss: 2.5125\n",
      "Epoch   0 Batch  435/1077 - Train Accuracy: 0.4108, Validation Accuracy: 0.4790, Loss: 2.6648\n",
      "Epoch   0 Batch  440/1077 - Train Accuracy: 0.4277, Validation Accuracy: 0.4766, Loss: 2.4981\n"
     ]
    },
    {
     "name": "stdout",
     "output_type": "stream",
     "text": [
      "Epoch   0 Batch  445/1077 - Train Accuracy: 0.4030, Validation Accuracy: 0.4812, Loss: 2.6324\n",
      "Epoch   0 Batch  450/1077 - Train Accuracy: 0.4359, Validation Accuracy: 0.4783, Loss: 2.4962\n",
      "Epoch   0 Batch  455/1077 - Train Accuracy: 0.4727, Validation Accuracy: 0.4766, Loss: 2.2977\n",
      "Epoch   0 Batch  460/1077 - Train Accuracy: 0.4129, Validation Accuracy: 0.4780, Loss: 2.5242\n",
      "Epoch   0 Batch  465/1077 - Train Accuracy: 0.4034, Validation Accuracy: 0.4787, Loss: 2.6913\n",
      "Epoch   0 Batch  470/1077 - Train Accuracy: 0.4194, Validation Accuracy: 0.4776, Loss: 2.5621\n",
      "Epoch   0 Batch  475/1077 - Train Accuracy: 0.4637, Validation Accuracy: 0.4876, Loss: 2.3658\n",
      "Epoch   0 Batch  480/1077 - Train Accuracy: 0.4252, Validation Accuracy: 0.4883, Loss: 2.5500\n",
      "Epoch   0 Batch  485/1077 - Train Accuracy: 0.4383, Validation Accuracy: 0.4886, Loss: 2.4867\n",
      "Epoch   0 Batch  490/1077 - Train Accuracy: 0.4320, Validation Accuracy: 0.4901, Loss: 2.4822\n",
      "Epoch   0 Batch  495/1077 - Train Accuracy: 0.4359, Validation Accuracy: 0.4876, Loss: 2.4290\n",
      "Epoch   0 Batch  500/1077 - Train Accuracy: 0.4582, Validation Accuracy: 0.4911, Loss: 2.4127\n",
      "Epoch   0 Batch  505/1077 - Train Accuracy: 0.4717, Validation Accuracy: 0.4936, Loss: 2.2922\n",
      "Epoch   0 Batch  510/1077 - Train Accuracy: 0.4664, Validation Accuracy: 0.4915, Loss: 2.3740\n",
      "Epoch   0 Batch  515/1077 - Train Accuracy: 0.4328, Validation Accuracy: 0.4893, Loss: 2.4466\n",
      "Epoch   0 Batch  520/1077 - Train Accuracy: 0.4769, Validation Accuracy: 0.4925, Loss: 2.2873\n",
      "Epoch   0 Batch  525/1077 - Train Accuracy: 0.4473, Validation Accuracy: 0.4911, Loss: 2.4235\n",
      "Epoch   0 Batch  530/1077 - Train Accuracy: 0.4309, Validation Accuracy: 0.4947, Loss: 2.4509\n",
      "Epoch   0 Batch  535/1077 - Train Accuracy: 0.4391, Validation Accuracy: 0.4989, Loss: 2.3883\n",
      "Epoch   0 Batch  540/1077 - Train Accuracy: 0.4441, Validation Accuracy: 0.5004, Loss: 2.2749\n",
      "Epoch   0 Batch  545/1077 - Train Accuracy: 0.4395, Validation Accuracy: 0.4933, Loss: 2.4455\n",
      "Epoch   0 Batch  550/1077 - Train Accuracy: 0.4273, Validation Accuracy: 0.5021, Loss: 2.4521\n",
      "Epoch   0 Batch  555/1077 - Train Accuracy: 0.4508, Validation Accuracy: 0.4972, Loss: 2.3078\n",
      "Epoch   0 Batch  560/1077 - Train Accuracy: 0.4664, Validation Accuracy: 0.4979, Loss: 2.2956\n",
      "Epoch   0 Batch  565/1077 - Train Accuracy: 0.4736, Validation Accuracy: 0.5028, Loss: 2.3086\n",
      "Epoch   0 Batch  570/1077 - Train Accuracy: 0.4346, Validation Accuracy: 0.4982, Loss: 2.4050\n",
      "Epoch   0 Batch  575/1077 - Train Accuracy: 0.4851, Validation Accuracy: 0.4989, Loss: 2.2460\n",
      "Epoch   0 Batch  580/1077 - Train Accuracy: 0.4907, Validation Accuracy: 0.5021, Loss: 2.2318\n",
      "Epoch   0 Batch  585/1077 - Train Accuracy: 0.4714, Validation Accuracy: 0.4979, Loss: 2.1608\n",
      "Epoch   0 Batch  590/1077 - Train Accuracy: 0.4297, Validation Accuracy: 0.5057, Loss: 2.3974\n",
      "Epoch   0 Batch  595/1077 - Train Accuracy: 0.4352, Validation Accuracy: 0.4840, Loss: 2.3522\n",
      "Epoch   0 Batch  600/1077 - Train Accuracy: 0.4944, Validation Accuracy: 0.5046, Loss: 2.1683\n",
      "Epoch   0 Batch  605/1077 - Train Accuracy: 0.4371, Validation Accuracy: 0.5060, Loss: 2.3503\n",
      "Epoch   0 Batch  610/1077 - Train Accuracy: 0.4174, Validation Accuracy: 0.4961, Loss: 2.3541\n",
      "Epoch   0 Batch  615/1077 - Train Accuracy: 0.4520, Validation Accuracy: 0.4819, Loss: 2.2027\n",
      "Epoch   0 Batch  620/1077 - Train Accuracy: 0.4332, Validation Accuracy: 0.4918, Loss: 2.2391\n",
      "Epoch   0 Batch  625/1077 - Train Accuracy: 0.4492, Validation Accuracy: 0.4922, Loss: 2.2092\n",
      "Epoch   0 Batch  630/1077 - Train Accuracy: 0.4469, Validation Accuracy: 0.4812, Loss: 2.1914\n",
      "Epoch   0 Batch  635/1077 - Train Accuracy: 0.3984, Validation Accuracy: 0.4851, Loss: 2.2989\n",
      "Epoch   0 Batch  640/1077 - Train Accuracy: 0.4390, Validation Accuracy: 0.4865, Loss: 2.1342\n",
      "Epoch   0 Batch  645/1077 - Train Accuracy: 0.4665, Validation Accuracy: 0.4915, Loss: 2.1090\n",
      "Epoch   0 Batch  650/1077 - Train Accuracy: 0.4375, Validation Accuracy: 0.4897, Loss: 2.1917\n",
      "Epoch   0 Batch  655/1077 - Train Accuracy: 0.4594, Validation Accuracy: 0.4915, Loss: 2.1564\n",
      "Epoch   0 Batch  660/1077 - Train Accuracy: 0.4164, Validation Accuracy: 0.4709, Loss: 2.2069\n",
      "Epoch   0 Batch  665/1077 - Train Accuracy: 0.4406, Validation Accuracy: 0.4876, Loss: 2.1723\n",
      "Epoch   0 Batch  670/1077 - Train Accuracy: 0.5071, Validation Accuracy: 0.4947, Loss: 1.9069\n",
      "Epoch   0 Batch  675/1077 - Train Accuracy: 0.4650, Validation Accuracy: 0.5025, Loss: 2.0516\n",
      "Epoch   0 Batch  680/1077 - Train Accuracy: 0.4602, Validation Accuracy: 0.5028, Loss: 2.0642\n",
      "Epoch   0 Batch  685/1077 - Train Accuracy: 0.4453, Validation Accuracy: 0.4950, Loss: 2.1649\n",
      "Epoch   0 Batch  690/1077 - Train Accuracy: 0.4453, Validation Accuracy: 0.4947, Loss: 2.0757\n",
      "Epoch   0 Batch  695/1077 - Train Accuracy: 0.4559, Validation Accuracy: 0.4893, Loss: 2.0524\n",
      "Epoch   0 Batch  700/1077 - Train Accuracy: 0.4234, Validation Accuracy: 0.4780, Loss: 2.0473\n",
      "Epoch   0 Batch  705/1077 - Train Accuracy: 0.4280, Validation Accuracy: 0.4908, Loss: 2.1371\n",
      "Epoch   0 Batch  710/1077 - Train Accuracy: 0.4168, Validation Accuracy: 0.4908, Loss: 2.0662\n",
      "Epoch   0 Batch  715/1077 - Train Accuracy: 0.4496, Validation Accuracy: 0.4947, Loss: 2.0737\n",
      "Epoch   0 Batch  720/1077 - Train Accuracy: 0.4416, Validation Accuracy: 0.5014, Loss: 2.1216\n",
      "Epoch   0 Batch  725/1077 - Train Accuracy: 0.4494, Validation Accuracy: 0.4943, Loss: 1.9348\n",
      "Epoch   0 Batch  730/1077 - Train Accuracy: 0.4492, Validation Accuracy: 0.5099, Loss: 1.9843\n",
      "Epoch   0 Batch  735/1077 - Train Accuracy: 0.4594, Validation Accuracy: 0.4986, Loss: 2.0063\n",
      "Epoch   0 Batch  740/1077 - Train Accuracy: 0.4898, Validation Accuracy: 0.5078, Loss: 1.9501\n",
      "Epoch   0 Batch  745/1077 - Train Accuracy: 0.4730, Validation Accuracy: 0.4879, Loss: 1.9157\n",
      "Epoch   0 Batch  750/1077 - Train Accuracy: 0.4566, Validation Accuracy: 0.4943, Loss: 1.9598\n",
      "Epoch   0 Batch  755/1077 - Train Accuracy: 0.4445, Validation Accuracy: 0.4915, Loss: 1.9169\n",
      "Epoch   0 Batch  760/1077 - Train Accuracy: 0.4629, Validation Accuracy: 0.4968, Loss: 1.9398\n",
      "Epoch   0 Batch  765/1077 - Train Accuracy: 0.4551, Validation Accuracy: 0.4886, Loss: 1.8750\n",
      "Epoch   0 Batch  770/1077 - Train Accuracy: 0.4747, Validation Accuracy: 0.4993, Loss: 1.8469\n",
      "Epoch   0 Batch  775/1077 - Train Accuracy: 0.4641, Validation Accuracy: 0.4950, Loss: 1.8721\n",
      "Epoch   0 Batch  780/1077 - Train Accuracy: 0.4402, Validation Accuracy: 0.4840, Loss: 1.9278\n",
      "Epoch   0 Batch  785/1077 - Train Accuracy: 0.4453, Validation Accuracy: 0.4876, Loss: 1.8218\n",
      "Epoch   0 Batch  790/1077 - Train Accuracy: 0.4031, Validation Accuracy: 0.4901, Loss: 1.9695\n",
      "Epoch   0 Batch  795/1077 - Train Accuracy: 0.4559, Validation Accuracy: 0.4840, Loss: 1.8860\n",
      "Epoch   0 Batch  800/1077 - Train Accuracy: 0.4469, Validation Accuracy: 0.4893, Loss: 1.9055\n",
      "Epoch   0 Batch  805/1077 - Train Accuracy: 0.4410, Validation Accuracy: 0.4631, Loss: 1.8390\n",
      "Epoch   0 Batch  810/1077 - Train Accuracy: 0.4695, Validation Accuracy: 0.4886, Loss: 1.7364\n",
      "Epoch   0 Batch  815/1077 - Train Accuracy: 0.4633, Validation Accuracy: 0.4801, Loss: 1.7976\n",
      "Epoch   0 Batch  820/1077 - Train Accuracy: 0.4199, Validation Accuracy: 0.4808, Loss: 1.8777\n",
      "Epoch   0 Batch  825/1077 - Train Accuracy: 0.4340, Validation Accuracy: 0.4876, Loss: 1.8491\n",
      "Epoch   0 Batch  830/1077 - Train Accuracy: 0.4320, Validation Accuracy: 0.4780, Loss: 1.7817\n",
      "Epoch   0 Batch  835/1077 - Train Accuracy: 0.4250, Validation Accuracy: 0.4737, Loss: 1.8357\n",
      "Epoch   0 Batch  840/1077 - Train Accuracy: 0.4395, Validation Accuracy: 0.4545, Loss: 1.7977\n",
      "Epoch   0 Batch  845/1077 - Train Accuracy: 0.4367, Validation Accuracy: 0.4602, Loss: 1.7563\n",
      "Epoch   0 Batch  850/1077 - Train Accuracy: 0.4174, Validation Accuracy: 0.4506, Loss: 1.7885\n",
      "Epoch   0 Batch  855/1077 - Train Accuracy: 0.4016, Validation Accuracy: 0.4620, Loss: 1.7625\n",
      "Epoch   0 Batch  860/1077 - Train Accuracy: 0.4583, Validation Accuracy: 0.4606, Loss: 1.6903\n",
      "Epoch   0 Batch  865/1077 - Train Accuracy: 0.4751, Validation Accuracy: 0.4464, Loss: 1.5712\n",
      "Epoch   0 Batch  870/1077 - Train Accuracy: 0.3812, Validation Accuracy: 0.4492, Loss: 1.8822\n",
      "Epoch   0 Batch  875/1077 - Train Accuracy: 0.4273, Validation Accuracy: 0.4457, Loss: 1.7242\n",
      "Epoch   0 Batch  880/1077 - Train Accuracy: 0.4184, Validation Accuracy: 0.4421, Loss: 1.6581\n"
     ]
    },
    {
     "name": "stdout",
     "output_type": "stream",
     "text": [
      "Epoch   0 Batch  885/1077 - Train Accuracy: 0.4897, Validation Accuracy: 0.4563, Loss: 1.5269\n",
      "Epoch   0 Batch  890/1077 - Train Accuracy: 0.4572, Validation Accuracy: 0.4450, Loss: 1.5398\n",
      "Epoch   0 Batch  895/1077 - Train Accuracy: 0.3961, Validation Accuracy: 0.4375, Loss: 1.6692\n",
      "Epoch   0 Batch  900/1077 - Train Accuracy: 0.4227, Validation Accuracy: 0.4602, Loss: 1.7621\n",
      "Epoch   0 Batch  905/1077 - Train Accuracy: 0.4105, Validation Accuracy: 0.4432, Loss: 1.6719\n",
      "Epoch   0 Batch  910/1077 - Train Accuracy: 0.4435, Validation Accuracy: 0.4411, Loss: 1.6500\n",
      "Epoch   0 Batch  915/1077 - Train Accuracy: 0.3729, Validation Accuracy: 0.4513, Loss: 1.7867\n",
      "Epoch   0 Batch  920/1077 - Train Accuracy: 0.4301, Validation Accuracy: 0.4588, Loss: 1.6697\n",
      "Epoch   0 Batch  925/1077 - Train Accuracy: 0.4111, Validation Accuracy: 0.4407, Loss: 1.6285\n",
      "Epoch   0 Batch  930/1077 - Train Accuracy: 0.4164, Validation Accuracy: 0.4414, Loss: 1.6487\n",
      "Epoch   0 Batch  935/1077 - Train Accuracy: 0.3836, Validation Accuracy: 0.4272, Loss: 1.6783\n",
      "Epoch   0 Batch  940/1077 - Train Accuracy: 0.4086, Validation Accuracy: 0.4368, Loss: 1.6854\n",
      "Epoch   0 Batch  945/1077 - Train Accuracy: 0.3926, Validation Accuracy: 0.4261, Loss: 1.6294\n",
      "Epoch   0 Batch  950/1077 - Train Accuracy: 0.4338, Validation Accuracy: 0.4496, Loss: 1.5884\n",
      "Epoch   0 Batch  955/1077 - Train Accuracy: 0.3828, Validation Accuracy: 0.4418, Loss: 1.6334\n",
      "Epoch   0 Batch  960/1077 - Train Accuracy: 0.4208, Validation Accuracy: 0.4510, Loss: 1.5293\n",
      "Epoch   0 Batch  965/1077 - Train Accuracy: 0.3413, Validation Accuracy: 0.4062, Loss: 1.7267\n",
      "Epoch   0 Batch  970/1077 - Train Accuracy: 0.3633, Validation Accuracy: 0.4091, Loss: 1.6322\n",
      "Epoch   0 Batch  975/1077 - Train Accuracy: 0.4308, Validation Accuracy: 0.4233, Loss: 1.4925\n",
      "Epoch   0 Batch  980/1077 - Train Accuracy: 0.4328, Validation Accuracy: 0.4400, Loss: 1.5558\n",
      "Epoch   0 Batch  985/1077 - Train Accuracy: 0.3891, Validation Accuracy: 0.4020, Loss: 1.5488\n",
      "Epoch   0 Batch  990/1077 - Train Accuracy: 0.3557, Validation Accuracy: 0.4080, Loss: 1.6576\n",
      "Epoch   0 Batch  995/1077 - Train Accuracy: 0.4167, Validation Accuracy: 0.4268, Loss: 1.5032\n",
      "Epoch   0 Batch 1000/1077 - Train Accuracy: 0.4319, Validation Accuracy: 0.4400, Loss: 1.4874\n",
      "Epoch   0 Batch 1005/1077 - Train Accuracy: 0.3992, Validation Accuracy: 0.4467, Loss: 1.5746\n",
      "Epoch   0 Batch 1010/1077 - Train Accuracy: 0.3980, Validation Accuracy: 0.4457, Loss: 1.5782\n",
      "Epoch   0 Batch 1015/1077 - Train Accuracy: 0.3648, Validation Accuracy: 0.4244, Loss: 1.5845\n",
      "Epoch   0 Batch 1020/1077 - Train Accuracy: 0.3937, Validation Accuracy: 0.4300, Loss: 1.5036\n",
      "Epoch   0 Batch 1025/1077 - Train Accuracy: 0.3914, Validation Accuracy: 0.3896, Loss: 1.4678\n",
      "Epoch   0 Batch 1030/1077 - Train Accuracy: 0.3863, Validation Accuracy: 0.4020, Loss: 1.5537\n",
      "Epoch   0 Batch 1035/1077 - Train Accuracy: 0.3947, Validation Accuracy: 0.3839, Loss: 1.4683\n",
      "Epoch   0 Batch 1040/1077 - Train Accuracy: 0.3289, Validation Accuracy: 0.3842, Loss: 1.5859\n",
      "Epoch   0 Batch 1045/1077 - Train Accuracy: 0.3340, Validation Accuracy: 0.3938, Loss: 1.5605\n",
      "Epoch   0 Batch 1050/1077 - Train Accuracy: 0.3117, Validation Accuracy: 0.3928, Loss: 1.5591\n",
      "Epoch   0 Batch 1055/1077 - Train Accuracy: 0.3531, Validation Accuracy: 0.3892, Loss: 1.4757\n",
      "Epoch   0 Batch 1060/1077 - Train Accuracy: 0.3742, Validation Accuracy: 0.3835, Loss: 1.4550\n",
      "Epoch   0 Batch 1065/1077 - Train Accuracy: 0.3148, Validation Accuracy: 0.3871, Loss: 1.4432\n",
      "Epoch   0 Batch 1070/1077 - Train Accuracy: 0.3465, Validation Accuracy: 0.4222, Loss: 1.5219\n",
      "Epoch   0 Batch 1075/1077 - Train Accuracy: 0.3565, Validation Accuracy: 0.4016, Loss: 1.5060\n",
      "Epoch   1 Batch    5/1077 - Train Accuracy: 0.3258, Validation Accuracy: 0.3778, Loss: 1.4596\n",
      "Epoch   1 Batch   10/1077 - Train Accuracy: 0.3129, Validation Accuracy: 0.3956, Loss: 1.5601\n",
      "Epoch   1 Batch   15/1077 - Train Accuracy: 0.3594, Validation Accuracy: 0.4016, Loss: 1.4566\n",
      "Epoch   1 Batch   20/1077 - Train Accuracy: 0.3445, Validation Accuracy: 0.3888, Loss: 1.4219\n",
      "Epoch   1 Batch   25/1077 - Train Accuracy: 0.3719, Validation Accuracy: 0.3892, Loss: 1.4396\n",
      "Epoch   1 Batch   30/1077 - Train Accuracy: 0.3148, Validation Accuracy: 0.3970, Loss: 1.4198\n",
      "Epoch   1 Batch   35/1077 - Train Accuracy: 0.3059, Validation Accuracy: 0.3675, Loss: 1.4375\n",
      "Epoch   1 Batch   40/1077 - Train Accuracy: 0.3168, Validation Accuracy: 0.3754, Loss: 1.4245\n",
      "Epoch   1 Batch   45/1077 - Train Accuracy: 0.3508, Validation Accuracy: 0.3999, Loss: 1.4519\n",
      "Epoch   1 Batch   50/1077 - Train Accuracy: 0.3160, Validation Accuracy: 0.3746, Loss: 1.4712\n",
      "Epoch   1 Batch   55/1077 - Train Accuracy: 0.3617, Validation Accuracy: 0.3718, Loss: 1.3774\n",
      "Epoch   1 Batch   60/1077 - Train Accuracy: 0.3590, Validation Accuracy: 0.3903, Loss: 1.3862\n",
      "Epoch   1 Batch   65/1077 - Train Accuracy: 0.3150, Validation Accuracy: 0.3690, Loss: 1.4790\n",
      "Epoch   1 Batch   70/1077 - Train Accuracy: 0.3302, Validation Accuracy: 0.3775, Loss: 1.4415\n",
      "Epoch   1 Batch   75/1077 - Train Accuracy: 0.3648, Validation Accuracy: 0.3810, Loss: 1.3529\n",
      "Epoch   1 Batch   80/1077 - Train Accuracy: 0.2797, Validation Accuracy: 0.3640, Loss: 1.3903\n",
      "Epoch   1 Batch   85/1077 - Train Accuracy: 0.3406, Validation Accuracy: 0.3878, Loss: 1.3173\n",
      "Epoch   1 Batch   90/1077 - Train Accuracy: 0.3359, Validation Accuracy: 0.3963, Loss: 1.4254\n",
      "Epoch   1 Batch   95/1077 - Train Accuracy: 0.3653, Validation Accuracy: 0.3970, Loss: 1.3800\n",
      "Epoch   1 Batch  100/1077 - Train Accuracy: 0.3270, Validation Accuracy: 0.3860, Loss: 1.3788\n",
      "Epoch   1 Batch  105/1077 - Train Accuracy: 0.3402, Validation Accuracy: 0.3849, Loss: 1.3457\n",
      "Epoch   1 Batch  110/1077 - Train Accuracy: 0.3656, Validation Accuracy: 0.3931, Loss: 1.3324\n",
      "Epoch   1 Batch  115/1077 - Train Accuracy: 0.3555, Validation Accuracy: 0.3899, Loss: 1.4098\n",
      "Epoch   1 Batch  120/1077 - Train Accuracy: 0.3375, Validation Accuracy: 0.4009, Loss: 1.3839\n",
      "Epoch   1 Batch  125/1077 - Train Accuracy: 0.3791, Validation Accuracy: 0.3761, Loss: 1.3546\n",
      "Epoch   1 Batch  130/1077 - Train Accuracy: 0.3772, Validation Accuracy: 0.3754, Loss: 1.2745\n",
      "Epoch   1 Batch  135/1077 - Train Accuracy: 0.3203, Validation Accuracy: 0.3782, Loss: 1.4175\n",
      "Epoch   1 Batch  140/1077 - Train Accuracy: 0.3252, Validation Accuracy: 0.3814, Loss: 1.4467\n",
      "Epoch   1 Batch  145/1077 - Train Accuracy: 0.3223, Validation Accuracy: 0.3803, Loss: 1.3062\n",
      "Epoch   1 Batch  150/1077 - Train Accuracy: 0.3769, Validation Accuracy: 0.3796, Loss: 1.2753\n",
      "Epoch   1 Batch  155/1077 - Train Accuracy: 0.3105, Validation Accuracy: 0.3622, Loss: 1.3481\n",
      "Epoch   1 Batch  160/1077 - Train Accuracy: 0.3102, Validation Accuracy: 0.3615, Loss: 1.2948\n",
      "Epoch   1 Batch  165/1077 - Train Accuracy: 0.2785, Validation Accuracy: 0.3690, Loss: 1.3248\n",
      "Epoch   1 Batch  170/1077 - Train Accuracy: 0.3109, Validation Accuracy: 0.3903, Loss: 1.3740\n",
      "Epoch   1 Batch  175/1077 - Train Accuracy: 0.3605, Validation Accuracy: 0.3477, Loss: 1.3050\n",
      "Epoch   1 Batch  180/1077 - Train Accuracy: 0.3516, Validation Accuracy: 0.3917, Loss: 1.3259\n",
      "Epoch   1 Batch  185/1077 - Train Accuracy: 0.3762, Validation Accuracy: 0.4265, Loss: 1.3369\n",
      "Epoch   1 Batch  190/1077 - Train Accuracy: 0.3855, Validation Accuracy: 0.3931, Loss: 1.3341\n",
      "Epoch   1 Batch  195/1077 - Train Accuracy: 0.2984, Validation Accuracy: 0.3619, Loss: 1.3330\n",
      "Epoch   1 Batch  200/1077 - Train Accuracy: 0.3367, Validation Accuracy: 0.3746, Loss: 1.3229\n",
      "Epoch   1 Batch  205/1077 - Train Accuracy: 0.3555, Validation Accuracy: 0.3768, Loss: 1.3038\n",
      "Epoch   1 Batch  210/1077 - Train Accuracy: 0.3538, Validation Accuracy: 0.3725, Loss: 1.3141\n",
      "Epoch   1 Batch  215/1077 - Train Accuracy: 0.3168, Validation Accuracy: 0.3821, Loss: 1.3298\n",
      "Epoch   1 Batch  220/1077 - Train Accuracy: 0.3376, Validation Accuracy: 0.3569, Loss: 1.3367\n",
      "Epoch   1 Batch  225/1077 - Train Accuracy: 0.3316, Validation Accuracy: 0.3604, Loss: 1.3023\n",
      "Epoch   1 Batch  230/1077 - Train Accuracy: 0.3936, Validation Accuracy: 0.3651, Loss: 1.2221\n",
      "Epoch   1 Batch  235/1077 - Train Accuracy: 0.3847, Validation Accuracy: 0.3739, Loss: 1.2076\n",
      "Epoch   1 Batch  240/1077 - Train Accuracy: 0.3387, Validation Accuracy: 0.3693, Loss: 1.2626\n",
      "Epoch   1 Batch  245/1077 - Train Accuracy: 0.3921, Validation Accuracy: 0.3658, Loss: 1.2517\n"
     ]
    },
    {
     "name": "stdout",
     "output_type": "stream",
     "text": [
      "Epoch   1 Batch  250/1077 - Train Accuracy: 0.3832, Validation Accuracy: 0.3686, Loss: 1.1936\n",
      "Epoch   1 Batch  255/1077 - Train Accuracy: 0.3238, Validation Accuracy: 0.3576, Loss: 1.2975\n",
      "Epoch   1 Batch  260/1077 - Train Accuracy: 0.3270, Validation Accuracy: 0.3569, Loss: 1.2233\n",
      "Epoch   1 Batch  265/1077 - Train Accuracy: 0.3355, Validation Accuracy: 0.3509, Loss: 1.2557\n",
      "Epoch   1 Batch  270/1077 - Train Accuracy: 0.3195, Validation Accuracy: 0.3455, Loss: 1.3448\n",
      "Epoch   1 Batch  275/1077 - Train Accuracy: 0.3627, Validation Accuracy: 0.3235, Loss: 1.2113\n",
      "Epoch   1 Batch  280/1077 - Train Accuracy: 0.3047, Validation Accuracy: 0.3214, Loss: 1.2955\n",
      "Epoch   1 Batch  285/1077 - Train Accuracy: 0.3538, Validation Accuracy: 0.3519, Loss: 1.1904\n",
      "Epoch   1 Batch  290/1077 - Train Accuracy: 0.3512, Validation Accuracy: 0.3352, Loss: 1.2888\n",
      "Epoch   1 Batch  295/1077 - Train Accuracy: 0.3421, Validation Accuracy: 0.3402, Loss: 1.3435\n",
      "Epoch   1 Batch  300/1077 - Train Accuracy: 0.3359, Validation Accuracy: 0.3303, Loss: 1.3294\n",
      "Epoch   1 Batch  305/1077 - Train Accuracy: 0.3438, Validation Accuracy: 0.3295, Loss: 1.2452\n",
      "Epoch   1 Batch  310/1077 - Train Accuracy: 0.2828, Validation Accuracy: 0.3395, Loss: 1.2584\n",
      "Epoch   1 Batch  315/1077 - Train Accuracy: 0.4077, Validation Accuracy: 0.3668, Loss: 1.1951\n",
      "Epoch   1 Batch  320/1077 - Train Accuracy: 0.3469, Validation Accuracy: 0.3626, Loss: 1.2470\n",
      "Epoch   1 Batch  325/1077 - Train Accuracy: 0.3676, Validation Accuracy: 0.3597, Loss: 1.1740\n",
      "Epoch   1 Batch  330/1077 - Train Accuracy: 0.3578, Validation Accuracy: 0.3608, Loss: 1.2530\n",
      "Epoch   1 Batch  335/1077 - Train Accuracy: 0.3694, Validation Accuracy: 0.3743, Loss: 1.1337\n",
      "Epoch   1 Batch  340/1077 - Train Accuracy: 0.3199, Validation Accuracy: 0.3846, Loss: 1.2553\n"
     ]
    },
    {
     "ename": "KeyboardInterrupt",
     "evalue": "",
     "output_type": "error",
     "traceback": [
      "\u001b[1;31m---------------------------------------------------------------------------\u001b[0m",
      "\u001b[1;31mKeyboardInterrupt\u001b[0m                         Traceback (most recent call last)",
      "\u001b[1;32m<ipython-input-41-8b554ffa681f>\u001b[0m in \u001b[0;36m<module>\u001b[1;34m()\u001b[0m\n\u001b[0;32m     46\u001b[0m                  \u001b[0mtarget_sequence_length\u001b[0m\u001b[1;33m:\u001b[0m \u001b[0mtargets_lengths\u001b[0m\u001b[1;33m,\u001b[0m\u001b[1;33m\u001b[0m\u001b[0m\n\u001b[0;32m     47\u001b[0m                  \u001b[0msource_sequence_length\u001b[0m\u001b[1;33m:\u001b[0m \u001b[0msources_lengths\u001b[0m\u001b[1;33m,\u001b[0m\u001b[1;33m\u001b[0m\u001b[0m\n\u001b[1;32m---> 48\u001b[1;33m                  keep_prob: keep_probability})\n\u001b[0m\u001b[0;32m     49\u001b[0m \u001b[1;33m\u001b[0m\u001b[0m\n\u001b[0;32m     50\u001b[0m \u001b[1;33m\u001b[0m\u001b[0m\n",
      "\u001b[1;32mC:\\Users\\lkor\\AppData\\Local\\Continuum\\Anaconda3\\envs\\tensorflow\\lib\\site-packages\\tensorflow\\python\\client\\session.py\u001b[0m in \u001b[0;36mrun\u001b[1;34m(self, fetches, feed_dict, options, run_metadata)\u001b[0m\n\u001b[0;32m    776\u001b[0m     \u001b[1;32mtry\u001b[0m\u001b[1;33m:\u001b[0m\u001b[1;33m\u001b[0m\u001b[0m\n\u001b[0;32m    777\u001b[0m       result = self._run(None, fetches, feed_dict, options_ptr,\n\u001b[1;32m--> 778\u001b[1;33m                          run_metadata_ptr)\n\u001b[0m\u001b[0;32m    779\u001b[0m       \u001b[1;32mif\u001b[0m \u001b[0mrun_metadata\u001b[0m\u001b[1;33m:\u001b[0m\u001b[1;33m\u001b[0m\u001b[0m\n\u001b[0;32m    780\u001b[0m         \u001b[0mproto_data\u001b[0m \u001b[1;33m=\u001b[0m \u001b[0mtf_session\u001b[0m\u001b[1;33m.\u001b[0m\u001b[0mTF_GetBuffer\u001b[0m\u001b[1;33m(\u001b[0m\u001b[0mrun_metadata_ptr\u001b[0m\u001b[1;33m)\u001b[0m\u001b[1;33m\u001b[0m\u001b[0m\n",
      "\u001b[1;32mC:\\Users\\lkor\\AppData\\Local\\Continuum\\Anaconda3\\envs\\tensorflow\\lib\\site-packages\\tensorflow\\python\\client\\session.py\u001b[0m in \u001b[0;36m_run\u001b[1;34m(self, handle, fetches, feed_dict, options, run_metadata)\u001b[0m\n\u001b[0;32m    980\u001b[0m     \u001b[1;32mif\u001b[0m \u001b[0mfinal_fetches\u001b[0m \u001b[1;32mor\u001b[0m \u001b[0mfinal_targets\u001b[0m\u001b[1;33m:\u001b[0m\u001b[1;33m\u001b[0m\u001b[0m\n\u001b[0;32m    981\u001b[0m       results = self._do_run(handle, final_targets, final_fetches,\n\u001b[1;32m--> 982\u001b[1;33m                              feed_dict_string, options, run_metadata)\n\u001b[0m\u001b[0;32m    983\u001b[0m     \u001b[1;32melse\u001b[0m\u001b[1;33m:\u001b[0m\u001b[1;33m\u001b[0m\u001b[0m\n\u001b[0;32m    984\u001b[0m       \u001b[0mresults\u001b[0m \u001b[1;33m=\u001b[0m \u001b[1;33m[\u001b[0m\u001b[1;33m]\u001b[0m\u001b[1;33m\u001b[0m\u001b[0m\n",
      "\u001b[1;32mC:\\Users\\lkor\\AppData\\Local\\Continuum\\Anaconda3\\envs\\tensorflow\\lib\\site-packages\\tensorflow\\python\\client\\session.py\u001b[0m in \u001b[0;36m_do_run\u001b[1;34m(self, handle, target_list, fetch_list, feed_dict, options, run_metadata)\u001b[0m\n\u001b[0;32m   1030\u001b[0m     \u001b[1;32mif\u001b[0m \u001b[0mhandle\u001b[0m \u001b[1;32mis\u001b[0m \u001b[1;32mNone\u001b[0m\u001b[1;33m:\u001b[0m\u001b[1;33m\u001b[0m\u001b[0m\n\u001b[0;32m   1031\u001b[0m       return self._do_call(_run_fn, self._session, feed_dict, fetch_list,\n\u001b[1;32m-> 1032\u001b[1;33m                            target_list, options, run_metadata)\n\u001b[0m\u001b[0;32m   1033\u001b[0m     \u001b[1;32melse\u001b[0m\u001b[1;33m:\u001b[0m\u001b[1;33m\u001b[0m\u001b[0m\n\u001b[0;32m   1034\u001b[0m       return self._do_call(_prun_fn, self._session, handle, feed_dict,\n",
      "\u001b[1;32mC:\\Users\\lkor\\AppData\\Local\\Continuum\\Anaconda3\\envs\\tensorflow\\lib\\site-packages\\tensorflow\\python\\client\\session.py\u001b[0m in \u001b[0;36m_do_call\u001b[1;34m(self, fn, *args)\u001b[0m\n\u001b[0;32m   1037\u001b[0m   \u001b[1;32mdef\u001b[0m \u001b[0m_do_call\u001b[0m\u001b[1;33m(\u001b[0m\u001b[0mself\u001b[0m\u001b[1;33m,\u001b[0m \u001b[0mfn\u001b[0m\u001b[1;33m,\u001b[0m \u001b[1;33m*\u001b[0m\u001b[0margs\u001b[0m\u001b[1;33m)\u001b[0m\u001b[1;33m:\u001b[0m\u001b[1;33m\u001b[0m\u001b[0m\n\u001b[0;32m   1038\u001b[0m     \u001b[1;32mtry\u001b[0m\u001b[1;33m:\u001b[0m\u001b[1;33m\u001b[0m\u001b[0m\n\u001b[1;32m-> 1039\u001b[1;33m       \u001b[1;32mreturn\u001b[0m \u001b[0mfn\u001b[0m\u001b[1;33m(\u001b[0m\u001b[1;33m*\u001b[0m\u001b[0margs\u001b[0m\u001b[1;33m)\u001b[0m\u001b[1;33m\u001b[0m\u001b[0m\n\u001b[0m\u001b[0;32m   1040\u001b[0m     \u001b[1;32mexcept\u001b[0m \u001b[0merrors\u001b[0m\u001b[1;33m.\u001b[0m\u001b[0mOpError\u001b[0m \u001b[1;32mas\u001b[0m \u001b[0me\u001b[0m\u001b[1;33m:\u001b[0m\u001b[1;33m\u001b[0m\u001b[0m\n\u001b[0;32m   1041\u001b[0m       \u001b[0mmessage\u001b[0m \u001b[1;33m=\u001b[0m \u001b[0mcompat\u001b[0m\u001b[1;33m.\u001b[0m\u001b[0mas_text\u001b[0m\u001b[1;33m(\u001b[0m\u001b[0me\u001b[0m\u001b[1;33m.\u001b[0m\u001b[0mmessage\u001b[0m\u001b[1;33m)\u001b[0m\u001b[1;33m\u001b[0m\u001b[0m\n",
      "\u001b[1;32mC:\\Users\\lkor\\AppData\\Local\\Continuum\\Anaconda3\\envs\\tensorflow\\lib\\site-packages\\tensorflow\\python\\client\\session.py\u001b[0m in \u001b[0;36m_run_fn\u001b[1;34m(session, feed_dict, fetch_list, target_list, options, run_metadata)\u001b[0m\n\u001b[0;32m   1019\u001b[0m         return tf_session.TF_Run(session, options,\n\u001b[0;32m   1020\u001b[0m                                  \u001b[0mfeed_dict\u001b[0m\u001b[1;33m,\u001b[0m \u001b[0mfetch_list\u001b[0m\u001b[1;33m,\u001b[0m \u001b[0mtarget_list\u001b[0m\u001b[1;33m,\u001b[0m\u001b[1;33m\u001b[0m\u001b[0m\n\u001b[1;32m-> 1021\u001b[1;33m                                  status, run_metadata)\n\u001b[0m\u001b[0;32m   1022\u001b[0m \u001b[1;33m\u001b[0m\u001b[0m\n\u001b[0;32m   1023\u001b[0m     \u001b[1;32mdef\u001b[0m \u001b[0m_prun_fn\u001b[0m\u001b[1;33m(\u001b[0m\u001b[0msession\u001b[0m\u001b[1;33m,\u001b[0m \u001b[0mhandle\u001b[0m\u001b[1;33m,\u001b[0m \u001b[0mfeed_dict\u001b[0m\u001b[1;33m,\u001b[0m \u001b[0mfetch_list\u001b[0m\u001b[1;33m)\u001b[0m\u001b[1;33m:\u001b[0m\u001b[1;33m\u001b[0m\u001b[0m\n",
      "\u001b[1;31mKeyboardInterrupt\u001b[0m: "
     ]
    }
   ],
   "source": [
    "\"\"\"\n",
    "DON'T MODIFY ANYTHING IN THIS CELL\n",
    "\"\"\"\n",
    "def get_accuracy(target, logits):\n",
    "    \"\"\"\n",
    "    Calculate accuracy\n",
    "    \"\"\"\n",
    "    max_seq = max(target.shape[1], logits.shape[1])\n",
    "    if max_seq - target.shape[1]:\n",
    "        target = np.pad(\n",
    "            target,\n",
    "            [(0,0),(0,max_seq - target.shape[1])],\n",
    "            'constant')\n",
    "    if max_seq - logits.shape[1]:\n",
    "        logits = np.pad(\n",
    "            logits,\n",
    "            [(0,0),(0,max_seq - logits.shape[1])],\n",
    "            'constant')\n",
    "\n",
    "    return np.mean(np.equal(target, logits))\n",
    "\n",
    "# Split data to training and validation sets\n",
    "train_source = source_int_text[batch_size:]\n",
    "train_target = target_int_text[batch_size:]\n",
    "valid_source = source_int_text[:batch_size]\n",
    "valid_target = target_int_text[:batch_size]\n",
    "(valid_sources_batch, valid_targets_batch, valid_sources_lengths, valid_targets_lengths ) = next(get_batches(valid_source,\n",
    "                                                                                                             valid_target,\n",
    "                                                                                                             batch_size,\n",
    "                                                                                                             source_vocab_to_int['<PAD>'],\n",
    "                                                                                                             target_vocab_to_int['<PAD>']))                                                                                                  \n",
    "with tf.Session(graph=train_graph) as sess:\n",
    "    sess.run(tf.global_variables_initializer())\n",
    "\n",
    "    for epoch_i in range(epochs):\n",
    "        for batch_i, (source_batch, target_batch, sources_lengths, targets_lengths) in enumerate(\n",
    "                get_batches(train_source, train_target, batch_size,\n",
    "                            source_vocab_to_int['<PAD>'],\n",
    "                            target_vocab_to_int['<PAD>'])):\n",
    "\n",
    "            _, loss = sess.run(\n",
    "                [train_op, cost],\n",
    "                {input_data: source_batch,\n",
    "                 targets: target_batch,\n",
    "                 lr: learning_rate,\n",
    "                 target_sequence_length: targets_lengths,\n",
    "                 source_sequence_length: sources_lengths,\n",
    "                 keep_prob: keep_probability})\n",
    "\n",
    "\n",
    "            if batch_i % display_step == 0 and batch_i > 0:\n",
    "\n",
    "\n",
    "                batch_train_logits = sess.run(\n",
    "                    inference_logits,\n",
    "                    {input_data: source_batch,\n",
    "                     source_sequence_length: sources_lengths,\n",
    "                     target_sequence_length: targets_lengths,\n",
    "                     keep_prob: 1.0})\n",
    "\n",
    "\n",
    "                batch_valid_logits = sess.run(\n",
    "                    inference_logits,\n",
    "                    {input_data: valid_sources_batch,\n",
    "                     source_sequence_length: valid_sources_lengths,\n",
    "                     target_sequence_length: valid_targets_lengths,\n",
    "                     keep_prob: 1.0})\n",
    "\n",
    "                train_acc = get_accuracy(target_batch, batch_train_logits)\n",
    "\n",
    "                valid_acc = get_accuracy(valid_targets_batch, batch_valid_logits)\n",
    "\n",
    "                print('Epoch {:>3} Batch {:>4}/{} - Train Accuracy: {:>6.4f}, Validation Accuracy: {:>6.4f}, Loss: {:>6.4f}'\n",
    "                      .format(epoch_i, batch_i, len(source_int_text) // batch_size, train_acc, valid_acc, loss))\n",
    "\n",
    "    # Save Model\n",
    "    saver = tf.train.Saver()\n",
    "    saver.save(sess, save_path)\n",
    "    print('Model Trained and Saved')"
   ]
  },
  {
   "cell_type": "markdown",
   "metadata": {},
   "source": [
    "### Save Parameters\n",
    "Save the `batch_size` and `save_path` parameters for inference."
   ]
  },
  {
   "cell_type": "code",
   "execution_count": null,
   "metadata": {
    "collapsed": true
   },
   "outputs": [],
   "source": [
    "\"\"\"\n",
    "DON'T MODIFY ANYTHING IN THIS CELL\n",
    "\"\"\"\n",
    "# Save parameters for checkpoint\n",
    "helper.save_params(save_path)"
   ]
  },
  {
   "cell_type": "markdown",
   "metadata": {},
   "source": [
    "# Checkpoint"
   ]
  },
  {
   "cell_type": "code",
   "execution_count": null,
   "metadata": {
    "collapsed": true
   },
   "outputs": [],
   "source": [
    "\"\"\"\n",
    "DON'T MODIFY ANYTHING IN THIS CELL\n",
    "\"\"\"\n",
    "import tensorflow as tf\n",
    "import numpy as np\n",
    "import helper\n",
    "import problem_unittests as tests\n",
    "\n",
    "_, (source_vocab_to_int, target_vocab_to_int), (source_int_to_vocab, target_int_to_vocab) = helper.load_preprocess()\n",
    "load_path = helper.load_params()"
   ]
  },
  {
   "cell_type": "markdown",
   "metadata": {},
   "source": [
    "## Sentence to Sequence\n",
    "To feed a sentence into the model for translation, you first need to preprocess it.  Implement the function `sentence_to_seq()` to preprocess new sentences.\n",
    "\n",
    "- Convert the sentence to lowercase\n",
    "- Convert words into ids using `vocab_to_int`\n",
    " - Convert words not in the vocabulary, to the `<UNK>` word id."
   ]
  },
  {
   "cell_type": "code",
   "execution_count": null,
   "metadata": {
    "collapsed": true
   },
   "outputs": [],
   "source": [
    "def sentence_to_seq(sentence, vocab_to_int):\n",
    "    \"\"\"\n",
    "    Convert a sentence to a sequence of ids\n",
    "    :param sentence: String\n",
    "    :param vocab_to_int: Dictionary to go from the words to an id\n",
    "    :return: List of word ids\n",
    "    \"\"\"\n",
    "    # TODO: Implement Function\n",
    "    return [vocab_to_int.get(word, vocab_to_int['<UNK>']) for word in sentence.lower().split()]\n",
    "    \n",
    "\n",
    "\n",
    "\"\"\"\n",
    "DON'T MODIFY ANYTHING IN THIS CELL THAT IS BELOW THIS LINE\n",
    "\"\"\"\n",
    "tests.test_sentence_to_seq(sentence_to_seq)"
   ]
  },
  {
   "cell_type": "markdown",
   "metadata": {},
   "source": [
    "## Translate\n",
    "This will translate `translate_sentence` from English to French."
   ]
  },
  {
   "cell_type": "code",
   "execution_count": null,
   "metadata": {
    "collapsed": true
   },
   "outputs": [],
   "source": [
    "translate_sentence = 'he saw a old yellow truck .'\n",
    "\n",
    "\n",
    "\"\"\"\n",
    "DON'T MODIFY ANYTHING IN THIS CELL\n",
    "\"\"\"\n",
    "translate_sentence = sentence_to_seq(translate_sentence, source_vocab_to_int)\n",
    "\n",
    "loaded_graph = tf.Graph()\n",
    "with tf.Session(graph=loaded_graph) as sess:\n",
    "    # Load saved model\n",
    "    loader = tf.train.import_meta_graph(load_path + '.meta')\n",
    "    loader.restore(sess, load_path)\n",
    "\n",
    "    input_data = loaded_graph.get_tensor_by_name('input:0')\n",
    "    logits = loaded_graph.get_tensor_by_name('predictions:0')\n",
    "    target_sequence_length = loaded_graph.get_tensor_by_name('target_sequence_length:0')\n",
    "    source_sequence_length = loaded_graph.get_tensor_by_name('source_sequence_length:0')\n",
    "    keep_prob = loaded_graph.get_tensor_by_name('keep_prob:0')\n",
    "\n",
    "    translate_logits = sess.run(logits, {input_data: [translate_sentence]*batch_size,\n",
    "                                         target_sequence_length: [len(translate_sentence)*2]*batch_size,\n",
    "                                         source_sequence_length: [len(translate_sentence)]*batch_size,\n",
    "                                         keep_prob: 1.0})[0]\n",
    "\n",
    "print('Input')\n",
    "print('  Word Ids:      {}'.format([i for i in translate_sentence]))\n",
    "print('  English Words: {}'.format([source_int_to_vocab[i] for i in translate_sentence]))\n",
    "\n",
    "print('\\nPrediction')\n",
    "print('  Word Ids:      {}'.format([i for i in translate_logits]))\n",
    "print('  French Words: {}'.format(\" \".join([target_int_to_vocab[i] for i in translate_logits])))\n"
   ]
  },
  {
   "cell_type": "markdown",
   "metadata": {},
   "source": [
    "## Imperfect Translation\n",
    "You might notice that some sentences translate better than others.  Since the dataset you're using only has a vocabulary of 227 English words of the thousands that you use, you're only going to see good results using these words.  For this project, you don't need a perfect translation. However, if you want to create a better translation model, you'll need better data.\n",
    "\n",
    "You can train on the [WMT10 French-English corpus](http://www.statmt.org/wmt10/training-giga-fren.tar).  This dataset has more vocabulary and richer in topics discussed.  However, this will take you days to train, so make sure you've a GPU and the neural network is performing well on dataset we provided.  Just make sure you play with the WMT10 corpus after you've submitted this project.\n",
    "## Submitting This Project\n",
    "When submitting this project, make sure to run all the cells before saving the notebook. Save the notebook file as \"dlnd_language_translation.ipynb\" and save it as a HTML file under \"File\" -> \"Download as\". Include the \"helper.py\" and \"problem_unittests.py\" files in your submission."
   ]
  }
 ],
 "metadata": {
  "anaconda-cloud": {},
  "kernelspec": {
   "display_name": "Python 3",
   "language": "python",
   "name": "python3"
  },
  "language_info": {
   "codemirror_mode": {
    "name": "ipython",
    "version": 3
   },
   "file_extension": ".py",
   "mimetype": "text/x-python",
   "name": "python",
   "nbconvert_exporter": "python",
   "pygments_lexer": "ipython3",
   "version": "3.5.3"
  }
 },
 "nbformat": 4,
 "nbformat_minor": 1
}
